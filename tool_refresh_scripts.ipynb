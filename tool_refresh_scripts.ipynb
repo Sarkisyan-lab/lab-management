{
 "cells": [
  {
   "cell_type": "code",
   "execution_count": null,
   "id": "23b73c49-0ce5-45b4-b65f-c96f8295c729",
   "metadata": {
    "ExecuteTime": {
     "end_time": "2024-01-30T13:57:11.954637Z",
     "start_time": "2024-01-30T13:57:11.945724Z"
    }
   },
   "outputs": [],
   "source": [
    "import glob\n",
    "import os\n",
    "import threading\n",
    "import time"
   ]
  },
  {
   "cell_type": "code",
   "execution_count": null,
   "id": "36c9ccfa-e03d-49ef-aa71-6df8ef9d2f27",
   "metadata": {
    "ExecuteTime": {
     "end_time": "2024-01-30T13:58:44.559756Z",
     "start_time": "2024-01-30T13:58:39.074194Z"
    }
   },
   "outputs": [],
   "source": [
    "# Create a lock object\n",
    "print_lock = threading.Lock()\n",
    "\n",
    "def convert_to_script(ipynb_file):\n",
    "    with print_lock:\n",
    "        print(f\"Converting: {ipynb_file}\")\n",
    "\n",
    "    os.system(f'jupyter nbconvert --log-level WARN --no-prompt --to script \"{ipynb_file}\"')\n",
    "\n",
    "    with print_lock:\n",
    "        print(f\"Finished converting: {ipynb_file}\")\n",
    "\n",
    "ipynb_files = glob.glob('**/*.ipynb', recursive=True)\n",
    "\n",
    "threads = []\n",
    "\n",
    "for ipynb_file in ipynb_files:\n",
    "    thread = threading.Thread(target=convert_to_script, args=(ipynb_file,))\n",
    "    thread.start()\n",
    "    threads.append(thread)\n",
    "\n",
    "# Wait for all threads to finish\n",
    "for thread in threads:\n",
    "    thread.join()\n",
    "\n"
   ]
  },
  {
   "cell_type": "code",
   "execution_count": null,
   "id": "9e699914",
   "metadata": {},
   "outputs": [],
   "source": []
  }
 ],
 "metadata": {
  "hide_input": false,
  "kernelspec": {
   "display_name": "Python 3 (ipykernel)",
   "language": "python",
   "name": "python3"
  },
  "language_info": {
   "codemirror_mode": {
    "name": "ipython",
    "version": 3
   },
   "file_extension": ".py",
   "mimetype": "text/x-python",
   "name": "python",
   "nbconvert_exporter": "python",
   "pygments_lexer": "ipython3",
   "version": "3.9.18"
  },
  "toc": {
   "base_numbering": 1,
   "nav_menu": {},
   "number_sections": true,
   "sideBar": false,
   "skip_h1_title": false,
   "title_cell": "Table of Contents",
   "title_sidebar": "Contents",
   "toc_cell": false,
   "toc_position": {
    "height": "100px",
    "left": "2632px",
    "top": "412px",
    "width": "376px"
   },
   "toc_section_display": true,
   "toc_window_display": true
  }
 },
 "nbformat": 4,
 "nbformat_minor": 5
}
