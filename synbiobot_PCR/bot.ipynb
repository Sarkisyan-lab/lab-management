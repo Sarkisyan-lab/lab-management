{
 "cells": [
  {
   "cell_type": "markdown",
   "id": "20965815",
   "metadata": {
    "ExecuteTime": {
     "end_time": "2021-12-03T12:59:26.543230Z",
     "start_time": "2021-12-03T12:59:26.541218Z"
    }
   },
   "source": [
    "# Imports"
   ]
  },
  {
   "cell_type": "code",
   "execution_count": null,
   "id": "ac1f8593",
   "metadata": {
    "ExecuteTime": {
     "end_time": "2022-06-28T18:33:07.080967Z",
     "start_time": "2022-06-28T18:33:05.620626Z"
    }
   },
   "outputs": [],
   "source": [
    "import os\n",
    "import sys\n",
    "import validators\n",
    "import time\n",
    "import urllib\n",
    "import dnacauldron\n",
    "\n",
    "from pydna.dseqrecord import Dseqrecord\n",
    "from pydna.amplify import pcr\n",
    "from pydna.primer import Primer\n",
    "import logging"
   ]
  },
  {
   "cell_type": "code",
   "execution_count": null,
   "id": "10f00865",
   "metadata": {
    "ExecuteTime": {
     "end_time": "2022-06-28T18:33:07.097086Z",
     "start_time": "2022-06-28T18:33:07.082339Z"
    }
   },
   "outputs": [],
   "source": [
    "if os.path.exists('../synbiobot_CORE'):\n",
    "    sys.path.append('../synbiobot_CORE')\n",
    "\n",
    "from airtable_config import *\n",
    "from benchling_tools import benchling_to_gb, SeqFeature_to_BenchlingFeature, make_benchling_construct"
   ]
  },
  {
   "cell_type": "markdown",
   "id": "cb862ccc-e637-41f4-a85e-478a30d5c9bd",
   "metadata": {},
   "source": [
    "# Logging"
   ]
  },
  {
   "cell_type": "code",
   "execution_count": null,
   "id": "26289482-72fe-43b7-b4b2-a243f5be9b14",
   "metadata": {},
   "outputs": [],
   "source": [
    "console_handler = logging.StreamHandler()  # Console handler\n",
    "file_handler = logging.FileHandler('log.log')  # File handler\n",
    "\n",
    "# Configure the logging module\n",
    "logging.basicConfig(level=logging.INFO,  # Set logging level to INFO\n",
    "                    format='%(asctime)s - %(name)s - %(levelname)s - %(message)s',  # Set log message format\n",
    "                    datefmt='%Y-%m-%d %H:%M:%S',  # Set date format for log messages\n",
    "                    handlers=[console_handler, file_handler])  # Log to both console and file"
   ]
  },
  {
   "cell_type": "code",
   "execution_count": null,
   "id": "40ee3450-791b-43c6-b8e4-d8ec183bddf2",
   "metadata": {},
   "outputs": [],
   "source": []
  },
  {
   "cell_type": "markdown",
   "id": "661c7c7c",
   "metadata": {
    "ExecuteTime": {
     "end_time": "2021-12-03T12:59:35.633979Z",
     "start_time": "2021-12-03T12:59:35.631770Z"
    }
   },
   "source": [
    "# Constants"
   ]
  },
  {
   "cell_type": "code",
   "execution_count": null,
   "id": "b14f70f1-ca3b-4a74-9100-a35cd1712b0c",
   "metadata": {},
   "outputs": [],
   "source": [
    "C_table_id = os.getenv(\"TABLE_C_ID\")\n",
    "C_table_benchling_link_field=\"Benchling link (public)\"\n",
    "C_table_assembly_strategy_field=\"Assembly strategy\"\n",
    "C_table_name_desc_field=\"Construct name and description\"\n",
    "C_table_other_parents_field=\"other parents\"\n",
    "C_table_is_prod_field=\"🔁is product of PCR\"\n",
    "\n",
    "M_table_id = os.getenv(\"TABLE_M_ID\")\n",
    "M_table_template_M_field=\"Template mol used\"\n",
    "M_table_construct_field=\"Construct\"\n",
    "M_table_primers_field=\"Primers\"\n",
    "\n",
    "PCR_table_id = os.getenv(\"TABLE_PCR_ID\")\n",
    "PCR_table_template_field=\"Template mol used\"\n",
    "PCR_table_make_C_field=\"make C\"\n",
    "\n",
    "Primer_table_id= os.getenv(\"TABLE_PRIMER_ID\")\n",
    "Primer_table_seq_field=\"Sequence 5' >>> 3'\""
   ]
  },
  {
   "cell_type": "code",
   "execution_count": null,
   "id": "65485b0b-4bd2-4174-bebe-d66be3bc4975",
   "metadata": {},
   "outputs": [],
   "source": []
  },
  {
   "cell_type": "code",
   "execution_count": null,
   "id": "09bd1131-9a5b-4f77-837a-c9f0b57343c8",
   "metadata": {},
   "outputs": [],
   "source": [
    "verbose=True"
   ]
  },
  {
   "cell_type": "markdown",
   "id": "956db1c9-a7f0-427f-b8c6-a211eca5be5d",
   "metadata": {},
   "source": [
    "# Functions"
   ]
  },
  {
   "cell_type": "code",
   "execution_count": null,
   "id": "22feaf60-f138-45c5-a871-868018989e79",
   "metadata": {},
   "outputs": [],
   "source": [
    "get_C_table= partial(get_table, C_table_id)\n",
    "get_M_table= partial(get_table, M_table_id)\n",
    "get_PCR_table= partial(get_table, PCR_table_id)\n",
    "get_Primer_table= partial(get_table, Primer_table_id)"
   ]
  },
  {
   "cell_type": "markdown",
   "id": "fdcb90b4",
   "metadata": {
    "ExecuteTime": {
     "end_time": "2022-06-09T10:44:13.286966Z",
     "start_time": "2022-06-09T10:44:13.284496Z"
    }
   },
   "source": [
    "# List pending PCRs"
   ]
  },
  {
   "cell_type": "code",
   "execution_count": null,
   "id": "2b1b0b41-c80c-4a0d-a1b9-7305758b311a",
   "metadata": {},
   "outputs": [],
   "source": [
    "C_table=get_C_table()\n",
    "M_table=get_M_table()\n",
    "PCR_table=get_PCR_table()\n",
    "Primer_table=get_Primer_table()"
   ]
  },
  {
   "cell_type": "code",
   "execution_count": null,
   "id": "e569656c-9d64-440b-b668-2f3c10689f9b",
   "metadata": {},
   "outputs": [],
   "source": []
  },
  {
   "cell_type": "markdown",
   "id": "9cc8ffce",
   "metadata": {},
   "source": [
    "# Simulate PCR"
   ]
  },
  {
   "cell_type": "code",
   "execution_count": null,
   "id": "62374c43",
   "metadata": {
    "ExecuteTime": {
     "end_time": "2022-06-28T18:46:33.263844Z",
     "start_time": "2022-06-28T18:46:28.113618Z"
    },
    "scrolled": true
   },
   "outputs": [],
   "source": [
    "while True:\n",
    "\n",
    "    try:\n",
    "        time.sleep(10)\n",
    "    \n",
    "        PCRs_to_simulate=[rec for rec in PCR_table.all() if rec.get(\"fields\").get(\"Status\")==\"Pending\"]\n",
    "        len(PCRs_to_simulate)\n",
    "    \n",
    "        for PCR in PCRs_to_simulate:\n",
    "            \n",
    "            PCR_ID=PCR.get(\"fields\",{}).get(\"ID\",\"\")\n",
    "            PCR_id=PCR.get(\"id\")\n",
    "            \n",
    "            # if construct is requested, and no construct is linked\n",
    "            # and the template and 2 primers are defined, proceed\n",
    "            \n",
    "            if PCR.get(\"fields\").get(M_table_template_M_field)\\\n",
    "            and isinstance(PCR.get(\"fields\").get(M_table_primers_field),list)\\\n",
    "            and len(PCR.get(\"fields\").get(M_table_primers_field))==2:\n",
    "                \n",
    "                logging.info(f\"Simulating {PCR_ID}\".center(50, \"-\"))\n",
    "                \n",
    "                # get info of template molecule\n",
    "                try:\n",
    "                    template_M=PCR.get(\"fields\",False).get(M_table_template_M_field,False)\n",
    "                    if not template_M:\n",
    "                        raise\n",
    "                    else:\n",
    "                        template_M=template_M[0]\n",
    "                        template_M_record = M_table.get(template_M)\n",
    "                except:\n",
    "                    msg=\"Please provide a template molecule\"\n",
    "                    PCR_table.update(PCR_id, {\"Status\": msg })\n",
    "                    logging.exception(msg)\n",
    "                    continue \n",
    "                \n",
    "                # get sequence of the parent construct\n",
    "                # which we will use as template to simulate the PCR\n",
    "                try:\n",
    "                    if not template_M_record.get(\"fields\",False).get(M_table_construct_field,False):raise\n",
    "                    else:template_C=C_table.get(template_M_record.get(\"fields\").get(M_table_construct_field)[0])\n",
    "                except:\n",
    "                    msg=\"The template molecule is not linked to a construct\"\n",
    "                    PCR_table.update(PCR_id, {\"Status\": msg })\n",
    "                    logging.exception(msg)\n",
    "                    continue\n",
    "                \n",
    "                # get template record\n",
    "                url=template_C.get(\"fields\",False).get(C_table_benchling_link_field,False)\n",
    "                if not(url and validators.url(url) and url.startswith(\"https://benchling.com/\")):\n",
    "                    msg=\"Missing benchling link in template record\"\n",
    "                    PCR_table.update(PCR_id, {\"Status\": msg })\n",
    "                    logging.error(msg)\n",
    "                    continue\n",
    "                try:\n",
    "                    url=url.split(\"?\")[0]\n",
    "                    dna=template_C.get(\"fields\",False).get(\"ID\",\"\")\n",
    "                    gbfile=f\"/tmp/{dna}.gb\"\n",
    "                    try:urllib.request.urlretrieve(url.replace(\" \",\"\")+\".gb\",gbfile)\n",
    "                    except:\n",
    "                        try:benchling_to_gb(url,gbfile)\n",
    "                        except:raise\n",
    "                except:\n",
    "                    msg=\"Could not fetch template construct, try a public link\"\n",
    "                    PCR_table.update(PCR_id, {\"Status\": msg })\n",
    "                    logging.exception(msg)\n",
    "                    continue\n",
    "                    \n",
    "                # parse template record\n",
    "                try:\n",
    "                    template_gb=dnacauldron.biotools.load_record(gbfile)\n",
    "                    if template_gb.annotations.get(\"topology\")==\"circular\":template_gb = Dseqrecord(template_gb,circular=True,linear=False)\n",
    "                    else:template_gb = Dseqrecord(template_gb,circular=False,linear=True)\n",
    "                except:\n",
    "                    msg=\"Could not parse template construct\"\n",
    "                    PCR_table.update(PCR_id, {\"Status\": msg })\n",
    "                    logging.exception(msg)\n",
    "                    continue\n",
    "                \n",
    "                \n",
    "                # get primers\n",
    "                try:\n",
    "                    primers=PCR.get(\"fields\",{}).get(\"Primers\",False)\n",
    "                    if not primers:raise\n",
    "                    else:\n",
    "                        if len(primers)==2:\n",
    "                            p1=Primer_table.get(primers[0])\n",
    "                            p1_seq = p1.get(\"fields\",{}).get(Primer_table_seq_field,False)\n",
    "                            F=Primer(p1_seq)\n",
    "        \n",
    "                            p2=Primer_table.get(primers[1])\n",
    "                            p2_seq=p2.get(\"fields\",{}).get(Primer_table_seq_field,False)\n",
    "                            R=Primer(p2_seq)\n",
    "                except:\n",
    "                    msg=\"Could not fetch primers\"\n",
    "                    PCR_table.update(PCR_id, {\"Status\": msg })\n",
    "                    logging.exception(msg)\n",
    "                    continue\n",
    "                \n",
    "            # simulate PCR\n",
    "            product=False\n",
    "            try:\n",
    "                if template_gb and all ([F,R]):\n",
    "                    product=pcr(F, R, template_gb)\n",
    "                    msg=\"Pass\"\n",
    "                    PCR_table.update(PCR.get(\"id\"), {\"Status\": msg })\n",
    "                    logging.info(msg)\n",
    "            except Exception as e:\n",
    "                if \"PCR not specific\" in str(e):msg=\"Fail: PCR not specific\"\n",
    "                elif \"No forward\" in str(e) or \"No reverse\" in str(e): msg=\"Fail: one primer or more does not anneal\"\n",
    "                elif \"No PCR product\" in str(e):msg=\"Fail: No PCR product\"\n",
    "                else:msg=\"Fail\"\n",
    "                PCR_table.update(PCR_id, {\"Status\": msg })\n",
    "                logging.exception(msg)\n",
    "            \n",
    "            \n",
    "            # list features that ended up in the product\n",
    "            f_names=[]\n",
    "            try:\n",
    "                for f in product.features:\n",
    "                    try:\n",
    "                        f_name=f.qualifiers[\"label\"][0]\n",
    "                        if not f_name.startswith(\"Translation\") \\\n",
    "                        and not f_name.startswith(\"Intron\")\\\n",
    "                        and \"Linker\" not in f_name:\n",
    "                            f_names.append(f_name)\n",
    "                    except:pass\n",
    "        \n",
    "            except:\n",
    "                f_names=list()\n",
    "                        \n",
    "        \n",
    "            # save to benchling/C_table\n",
    "            if product and PCR.get(\"fields\",False).get(PCR_table_make_C_field,False):\n",
    "                try:\n",
    "                    new_C = C_table.create({})\n",
    "                    new_C_ID=new_C.get(\"fields\",{}).get(\"ID\")\n",
    "        \n",
    "                    new_annots=[SeqFeature_to_BenchlingFeature(feature) for feature in product.features if feature.type!=\"primer_bind\"]\n",
    "                    dna = make_benchling_construct(name=f\"{new_C_ID}. Product of {PCR_ID}\",\n",
    "                                                   sequence=product.seq.watson,\n",
    "                                                   annotations=new_annots,\n",
    "                                                   is_circular=False)\n",
    "                    \n",
    "                    f_names=list()\n",
    "                    try:\n",
    "                        for f in product.features:\n",
    "                            try:\n",
    "                                f_name=f.qualifiers[\"label\"][0]\n",
    "                                if not f_name.startswith(\"Translation\") \\\n",
    "                                and not f_name.startswith(\"Intron\")\\\n",
    "                                and \"Linker\" not in f_name:\n",
    "                                    f_names.append(f_name)\n",
    "                            except:pass\n",
    "        \n",
    "                    except:\n",
    "                        f_names=list()\n",
    "                        \n",
    "                    desc=\", \".join(f_names)\n",
    "                    C_table.update(new_C.get(\"id\"),{C_table_benchling_link_field: dna.web_url,\n",
    "                                                    C_table_name_desc_field:f\"🤖🤖🤖 {desc}\",\n",
    "                                                    C_table_assembly_strategy_field:f\"Product of {PCR_ID}\",\n",
    "                                                    C_table_other_parents_field:[template_C.get(\"id\")],\n",
    "                                                    C_table_is_prod_field:[PCR_id]})\n",
    "        \n",
    "        \n",
    "        \n",
    "                except:\n",
    "                    msg=\"Pass, but failed to register product\"\n",
    "                    PCR_table.update(PCR_id, {\"Status\": msg })\n",
    "                    logging.exception(\"msg\")\n",
    "                    continue\n",
    "            logging.info(\"Done\")\n",
    "    \n",
    "        logging.info(\"Ready.\")\n",
    "    \n",
    "    except:\n",
    "        logging.exception(\"Main loop failed!\")\n",
    "            \n",
    "            \n",
    "    "
   ]
  },
  {
   "cell_type": "code",
   "execution_count": null,
   "id": "257e5a44",
   "metadata": {},
   "outputs": [],
   "source": []
  }
 ],
 "metadata": {
  "kernelspec": {
   "display_name": "Python 3 (ipykernel)",
   "language": "python",
   "name": "python3"
  },
  "language_info": {
   "codemirror_mode": {
    "name": "ipython",
    "version": 3
   },
   "file_extension": ".py",
   "mimetype": "text/x-python",
   "name": "python",
   "nbconvert_exporter": "python",
   "pygments_lexer": "ipython3",
   "version": "3.9.18"
  },
  "toc": {
   "base_numbering": 1,
   "nav_menu": {},
   "number_sections": true,
   "sideBar": true,
   "skip_h1_title": false,
   "title_cell": "Table of Contents",
   "title_sidebar": "",
   "toc_cell": false,
   "toc_position": {
    "height": "713.622px",
    "left": "245px",
    "top": "158.963px",
    "width": "165px"
   },
   "toc_section_display": true,
   "toc_window_display": true
  }
 },
 "nbformat": 4,
 "nbformat_minor": 5
}
