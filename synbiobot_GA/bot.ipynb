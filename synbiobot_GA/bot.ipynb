{
 "cells": [
  {
   "cell_type": "markdown",
   "id": "5a24f1d0",
   "metadata": {
    "ExecuteTime": {
     "end_time": "2021-12-03T12:59:26.543230Z",
     "start_time": "2021-12-03T12:59:26.541218Z"
    }
   },
   "source": [
    "# Imports"
   ]
  },
  {
   "cell_type": "code",
   "execution_count": null,
   "id": "06480e7a",
   "metadata": {
    "ExecuteTime": {
     "end_time": "2022-06-28T18:28:50.179164Z",
     "start_time": "2022-06-28T18:28:50.175166Z"
    }
   },
   "outputs": [],
   "source": [
    "import os\n",
    "import validators\n",
    "import time\n",
    "import urllib\n",
    "import logging\n",
    "import sys\n",
    "# from pydna.assembly import Assembly"
   ]
  },
  {
   "cell_type": "code",
   "execution_count": null,
   "id": "78741ec1-bc47-47e5-a13f-ff30c795d1e5",
   "metadata": {},
   "outputs": [],
   "source": [
    "console_handler = logging.StreamHandler()  # Console handler\n",
    "file_handler = logging.FileHandler('log.log')  # File handler\n",
    "\n",
    "# Configure the logging module\n",
    "logging.basicConfig(level=logging.INFO,  # Set logging level to INFO\n",
    "                    format='%(asctime)s - %(name)s - %(levelname)s - %(message)s',  # Set log message format\n",
    "                    datefmt='%Y-%m-%d %H:%M:%S',  # Set date format for log messages\n",
    "                    handlers=[console_handler, file_handler])  # Log to both console and file"
   ]
  },
  {
   "cell_type": "code",
   "execution_count": null,
   "id": "0285ce51-0b14-4412-93cf-445e64e91613",
   "metadata": {},
   "outputs": [],
   "source": [
    "if os.path.exists('../synbiobot_CORE'):\n",
    "    sys.path.append('../synbiobot_CORE')\n",
    "\n",
    "from airtable_config import *\n",
    "from benchling_tools import benchling_to_gb, SeqFeature_to_BenchlingFeature, make_benchling_construct"
   ]
  },
  {
   "cell_type": "code",
   "execution_count": null,
   "id": "ac888893",
   "metadata": {
    "ExecuteTime": {
     "end_time": "2022-06-28T18:28:50.205444Z",
     "start_time": "2022-06-28T18:28:50.200540Z"
    }
   },
   "outputs": [],
   "source": [
    "# from pydna.parsers import parse\n",
    "# from pydna.dseqrecord import Dseqrecord\n",
    "import dnacauldron"
   ]
  },
  {
   "cell_type": "markdown",
   "id": "16db6b04",
   "metadata": {
    "ExecuteTime": {
     "end_time": "2021-12-03T12:59:35.633979Z",
     "start_time": "2021-12-03T12:59:35.631770Z"
    }
   },
   "source": [
    "# Constants"
   ]
  },
  {
   "cell_type": "code",
   "execution_count": null,
   "id": "32c21dd1",
   "metadata": {
    "ExecuteTime": {
     "end_time": "2022-06-28T18:29:02.150592Z",
     "start_time": "2022-06-28T18:28:50.207248Z"
    }
   },
   "outputs": [],
   "source": [
    "C_table_id = os.getenv(\"TABLE_C_ID\")\n",
    "C_table_Construct_name_descr_field=\"Construct name and description\"\n",
    "C_table_assembly_strategy_field=\"Assembly strategy\"\n",
    "C_table_other_parents_field=\"other parents\"\n",
    "C_table_Benchling_link_field=\"Benchling link (public)\"\n",
    "C_table_mols_ok_field='Molecules 👌'"
   ]
  },
  {
   "cell_type": "code",
   "execution_count": null,
   "id": "c611c822-6b14-484f-9f9e-f3f32539cce1",
   "metadata": {},
   "outputs": [],
   "source": [
    "GA_table_id = os.getenv(\"TABLE_GA_ID\")\n",
    "GA_table_Status_field=\"Status\"\n",
    "GA_table_parts_field=\"Parts\"\n",
    "GA_table_suggested_mols_field=\"M suggested\"\n",
    "GA_table_final_C_field=\"Final construct\""
   ]
  },
  {
   "cell_type": "code",
   "execution_count": null,
   "id": "43837edb-631d-4236-899d-5ddb1bd14cac",
   "metadata": {},
   "outputs": [],
   "source": [
    "verbose=True"
   ]
  },
  {
   "cell_type": "markdown",
   "id": "67269c1c-e049-41bb-988e-66d36d2827eb",
   "metadata": {},
   "source": [
    "# Functions"
   ]
  },
  {
   "cell_type": "code",
   "execution_count": null,
   "id": "59be8028-12cd-471b-ae59-fbab95236e29",
   "metadata": {},
   "outputs": [],
   "source": [
    "get_C_table= partial(get_table, C_table_id)\n",
    "get_GA_table= partial(get_table, GA_table_id)"
   ]
  },
  {
   "cell_type": "markdown",
   "id": "05b57d5d",
   "metadata": {},
   "source": [
    "# Main loop"
   ]
  },
  {
   "cell_type": "code",
   "execution_count": null,
   "id": "f63e6e7b-380c-48f4-96dd-85263ccb9b23",
   "metadata": {},
   "outputs": [],
   "source": []
  },
  {
   "cell_type": "code",
   "execution_count": null,
   "id": "e332a399",
   "metadata": {
    "ExecuteTime": {
     "end_time": "2022-06-28T18:30:30.231613Z",
     "start_time": "2022-06-28T18:30:21.217378Z"
    },
    "scrolled": true
   },
   "outputs": [],
   "source": [
    "while True:\n",
    "    \n",
    "    time.sleep(10)\n",
    "\n",
    "    try:\n",
    "        C_table=get_C_table()\n",
    "        GA_table=get_GA_table()\n",
    "        \n",
    "        GAs_to_simulate=[GA for GA in GA_table.all() if GA.get(\"fields\").get(GA_table_Status_field)==\"Pending\"]\n",
    "\n",
    "        for GA in GAs_to_simulate:\n",
    "            \n",
    "            GA_ID=GA.get(\"fields\",{}).get(\"ID\",\"\")\n",
    "            GA_id=GA.get(\"id\")\n",
    "            logging.info(f\"Simulating Gibson assembly {GA_ID}\".center(50, '-'))\n",
    "            \n",
    "            # check if some parts were provided\n",
    "            parts = GA.get(\"fields\",{}).get(GA_table_parts_field,False)\n",
    "            if not parts:\n",
    "                msg=\"Please provide at least one part\"\n",
    "                GA_table.update(GA_id, {GA_table_Status_field: msg })\n",
    "                logging.error(msg)\n",
    "                continue\n",
    "            else:\n",
    "                # get parts\n",
    "                parts_names=[C_table.get(part).get(\"fields\",{}).get(\"ID\",False) for part in parts]\n",
    "                parts_descr=[C_table.get(part).get(\"fields\",{}).get(C_table_Construct_name_descr_field,False) for part in parts]\n",
    "            \n",
    "            # get part links\n",
    "            try:\n",
    "                urls = [C_table.get(part).get(\"fields\",False).get(C_table_Benchling_link_field,False) for part in parts]\n",
    "                urls = [url.split(\"?\")[0].replace(\" \",\"\").replace(\"/edit\",\"\") if (validators.url(url) and url.startswith(\"https://benchling.com\")) else False for url in urls ]\n",
    "                if not all(urls):raise\n",
    "            except:\n",
    "                msg=\"Missing benchling link in part record\"\n",
    "                GA_table.update(GA_id, {GA_table_Status_field: msg })\n",
    "                logging.exception(msg)\n",
    "                continue\n",
    "                \n",
    "            # download parts\n",
    "            gb_paths=[]\n",
    "            try:\n",
    "                for url,ID in zip(urls,parts_names):\n",
    "                    gb_name=f\"{ID}.gb\"\n",
    "                    gb_path=f\"/tmp/{gb_name}\"\n",
    "                    \n",
    "                    try:\n",
    "                        urllib.request.urlretrieve(url+\".gb\",gb_path)\n",
    "                        gb_paths.append(gb_path)\n",
    "                    except:\n",
    "                        try:\n",
    "                            benchling_to_gb(url,gb_path)\n",
    "                            gb_paths.append(gb_path)\n",
    "                        except:raise\n",
    "                                \n",
    "            except:\n",
    "                msg=\"Could not get one part, try using a public link\"\n",
    "                GA_table.update(GA_id, {GA_table_Status_field: msg })\n",
    "                logging.exception(msg)\n",
    "                continue\n",
    "            \n",
    "            # load sequences\n",
    "            try:\n",
    "                repository = dnacauldron.SequenceRepository()\n",
    "                repository.import_records(files=gb_paths, use_file_names_as_ids=True)\n",
    "            except:\n",
    "                msg=\"Failed to parse parts\"\n",
    "                GA_table.update(GA_id, {GA_table_Status_field: msg })\n",
    "                logging.exception(msg)\n",
    "                continue\n",
    "            \n",
    "            # simulate assembly\n",
    "            try:\n",
    "                assembly = dnacauldron.GibsonAssembly(parts=parts_names,name=GA_ID)\n",
    "                simulation = assembly.simulate(sequence_repository=repository,annotate_parts_homologies=False)\n",
    "                products=list(simulation.construct_records)\n",
    "                if len(products)==1:\n",
    "                    product=products[0]\n",
    "                    msg=\"Pass\"\n",
    "                    GA_table.update(GA_id, {GA_table_Status_field: msg })\n",
    "                    logging.info(msg)\n",
    "                elif len(products)==0:\n",
    "                    msg=\"No product\"\n",
    "                    GA_table.update(GA_id, {GA_table_Status_field: msg })\n",
    "                    logging.warning(msg)\n",
    "                    continue\n",
    "                elif len(products)>1:\n",
    "                    msg=\"Multiple products\"\n",
    "                    GA_table.update(GA_id, {GA_table_Status_field: msg })\n",
    "                    logging.warning(msg)\n",
    "                    continue\n",
    "            except:\n",
    "                msg=\"Assembly failed\"\n",
    "                GA_table.update(GA_id, {GA_table_Status_field: msg })\n",
    "                logging.exception(msg)\n",
    "                continue\n",
    "                \n",
    "                \n",
    "            # if user wants to register the construct\n",
    "            if GA.get(\"fields\").get(\"Make C\"):\n",
    "                \n",
    "                try:\n",
    "                \n",
    "                    product.name=product.id\n",
    "        \n",
    "                    # create airtable record\n",
    "                    new_C = C_table.create({})\n",
    "                    new_C_ID=new_C.get(\"fields\",{}).get(\"ID\")\n",
    "        \n",
    "                    # convert product to benchling construct\n",
    "                    product.features = [feature for feature in product.features if feature.qualifiers.get(\"label\",False)]\n",
    "                    new_annots=[SeqFeature_to_BenchlingFeature(feature) for feature in product.features \\\n",
    "                                if feature.type!=\"primer_bind\"\\\n",
    "                                and not feature.qualifiers.get(\"label\")[0].startswith(\"part\")]\n",
    "                    cloned_benchling = make_benchling_construct(name=new_C_ID,\n",
    "                                                                sequence=product.seq,\n",
    "                                                                annotations=new_annots,\n",
    "                                                                is_circular=True)\n",
    "                    \n",
    "                    # list features that ended up in the product\n",
    "                    f_names=[]\n",
    "                    try:\n",
    "                        for f in product.features:\n",
    "                            try:\n",
    "                                f_name=f.qualifiers[\"label\"][0]\n",
    "                                if not f_name.startswith(\"Translation\") \\\n",
    "                                and not f_name.startswith(\"Intron\")\\\n",
    "                                and \"Linker\" not in f_name:\n",
    "                                    f_names.append(f_name)\n",
    "                            except:pass\n",
    "        \n",
    "                    except:\n",
    "                        f_names=[\"some features\"]\n",
    "        \n",
    "                    # register benchling construct in airtable\n",
    "                    desc=\", \".join(f_names)\n",
    "                    C_table.update(new_C.get(\"id\"),{C_table_Benchling_link_field: cloned_benchling.web_url,\n",
    "                                                    C_table_Construct_name_descr_field:f\"🤖🤖🤖 {desc}\",\n",
    "                                                    C_table_assembly_strategy_field:f\"Product of {GA_ID}\",\n",
    "                                                    C_table_other_parents_field:parts})\n",
    "                    logging.info(f\"Saved result of {GA_ID} as {new_C_ID}.\")\n",
    "        \n",
    "                    # register new dna construct in Gibson assembly table\n",
    "        \n",
    "                    GA_table.update(GA_id,{GA_table_final_C_field:[new_C.get(\"id\")],\n",
    "                                           GA_table_Status_field:\"Pass\"})\n",
    "                    \n",
    "                except:\n",
    "                    msg=\"Pass, but failed to register construct\"\n",
    "                    GA_table.update(GA_id, {GA_table_Status_field: msg })\n",
    "                    logging.exception(msg)\n",
    "                    continue\n",
    "        \n",
    "                # suggest molecules OK to use\n",
    "                try:\n",
    "                    msg=\"\"\n",
    "                    for part in parts:\n",
    "                        part_record=C_table.get(part)\n",
    "                        mols_OK=part_record.get(\"fields\",{}).get(C_table_mols_ok_field,False)\n",
    "        \n",
    "                        sep=\"\" if msg==\"\" else \"\\n\"\n",
    "                        if mols_OK:\n",
    "                            msg=f\"{msg}{sep}{part_record.get('fields').get('ID')}: {mols_OK}\"\n",
    "                    GA_table.update(GA_id,{GA_table_suggested_mols_field:msg})\n",
    "                except:\n",
    "                    msg=\"Pass, but failed to suggest suitable molecules\"\n",
    "                    GA_table.update(GA_id, {GA_table_Status_field: msg })\n",
    "                    logging.exception(msg)\n",
    "                    continue\n",
    "                    \n",
    "            logging.info(\"Ready\")\n",
    "    except:\n",
    "        logging.exception(\"Main loop failed\")"
   ]
  },
  {
   "cell_type": "code",
   "execution_count": null,
   "id": "6029c7b3",
   "metadata": {},
   "outputs": [],
   "source": []
  },
  {
   "cell_type": "code",
   "execution_count": null,
   "id": "436b8df8",
   "metadata": {},
   "outputs": [],
   "source": []
  },
  {
   "cell_type": "code",
   "execution_count": null,
   "id": "46f38a95",
   "metadata": {},
   "outputs": [],
   "source": []
  }
 ],
 "metadata": {
  "kernelspec": {
   "display_name": "Python 3 (ipykernel)",
   "language": "python",
   "name": "python3"
  },
  "language_info": {
   "codemirror_mode": {
    "name": "ipython",
    "version": 3
   },
   "file_extension": ".py",
   "mimetype": "text/x-python",
   "name": "python",
   "nbconvert_exporter": "python",
   "pygments_lexer": "ipython3",
   "version": "3.9.18"
  },
  "toc": {
   "base_numbering": 1,
   "nav_menu": {},
   "number_sections": true,
   "sideBar": true,
   "skip_h1_title": false,
   "title_cell": "Table of Contents",
   "title_sidebar": "",
   "toc_cell": false,
   "toc_position": {
    "height": "713.622px",
    "left": "121px",
    "top": "120.963px",
    "width": "165px"
   },
   "toc_section_display": true,
   "toc_window_display": true
  }
 },
 "nbformat": 4,
 "nbformat_minor": 5
}
