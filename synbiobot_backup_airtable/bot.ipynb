{
 "cells": [
  {
   "cell_type": "markdown",
   "id": "63366bd2",
   "metadata": {},
   "source": [
    "# Imports"
   ]
  },
  {
   "cell_type": "code",
   "execution_count": null,
   "id": "bb62af31",
   "metadata": {
    "ExecuteTime": {
     "end_time": "2024-04-02T15:48:19.544792Z",
     "start_time": "2024-04-02T15:48:19.462577Z"
    }
   },
   "outputs": [],
   "source": [
    "# from airtable_config import *\n",
    "import pathlib\n",
    "import json\n",
    "import os\n",
    "import sys\n",
    "from datetime import datetime\n",
    "\n",
    "from pyairtable import metadata\n",
    "from pyairtable import Base\n",
    "from pyairtable import Table, retry_strategy\n",
    "import time\n",
    "import logging\n",
    "import tarfile\n",
    "import lzma"
   ]
  },
  {
   "cell_type": "code",
   "execution_count": null,
   "id": "c59bb2dd-ff71-4f58-b153-5b0268e0ae30",
   "metadata": {
    "ExecuteTime": {
     "end_time": "2024-04-02T15:48:19.862523Z",
     "start_time": "2024-04-02T15:48:19.858380Z"
    }
   },
   "outputs": [],
   "source": [
    "if os.path.exists('../synbiobot_CORE'):\n",
    "    sys.path.append('../synbiobot_CORE')"
   ]
  },
  {
   "cell_type": "code",
   "execution_count": null,
   "id": "d7564107-ce17-44d0-b2a1-ace528e55f53",
   "metadata": {
    "ExecuteTime": {
     "end_time": "2024-04-02T15:48:20.459118Z",
     "start_time": "2024-04-02T15:48:20.446479Z"
    }
   },
   "outputs": [],
   "source": [
    "from upload_download_functions import *"
   ]
  },
  {
   "cell_type": "code",
   "execution_count": null,
   "id": "ca3b0523-c17b-421f-9d8f-fef8287b294c",
   "metadata": {},
   "outputs": [],
   "source": []
  },
  {
   "cell_type": "markdown",
   "id": "dc425dca-ae1c-41ff-a501-04e4597743ee",
   "metadata": {},
   "source": [
    "# logging"
   ]
  },
  {
   "cell_type": "code",
   "execution_count": null,
   "id": "a416609b-9e89-4e35-b450-af22778de21c",
   "metadata": {
    "ExecuteTime": {
     "end_time": "2024-04-02T15:17:13.816089Z",
     "start_time": "2024-04-02T15:17:13.804086Z"
    }
   },
   "outputs": [],
   "source": [
    "console_handler = logging.StreamHandler()  # Console handler\n",
    "file_handler = logging.FileHandler('log.log')  # File handler\n",
    "\n",
    "# Configure the logging module\n",
    "logging.basicConfig(level=logging.INFO,  # Set logging level to INFO\n",
    "                    format='%(asctime)s - %(name)s - %(levelname)s - %(message)s',  # Set log message format\n",
    "                    datefmt='%Y-%m-%d %H:%M:%S',  # Set date format for log messages\n",
    "                    handlers=[console_handler, file_handler])  # Log to both console and file"
   ]
  },
  {
   "cell_type": "markdown",
   "id": "65f39567",
   "metadata": {},
   "source": [
    "# Constants"
   ]
  },
  {
   "cell_type": "code",
   "execution_count": null,
   "id": "92cea488",
   "metadata": {
    "ExecuteTime": {
     "end_time": "2024-04-02T15:17:13.831942Z",
     "start_time": "2024-04-02T15:17:13.823681Z"
    }
   },
   "outputs": [],
   "source": [
    "api_key = os.environ['AIRTABLE_API_KEY']\n",
    "base_id = os.environ['BASE_ID']"
   ]
  },
  {
   "cell_type": "code",
   "execution_count": null,
   "id": "d2da7fc3",
   "metadata": {
    "ExecuteTime": {
     "end_time": "2024-04-02T15:17:13.845497Z",
     "start_time": "2024-04-02T15:17:13.837184Z"
    }
   },
   "outputs": [],
   "source": [
    "my_retry_strategy = retry_strategy(total=3, backoff_factor=2)"
   ]
  },
  {
   "cell_type": "markdown",
   "id": "cefaed9e",
   "metadata": {},
   "source": [
    "# Functions"
   ]
  },
  {
   "cell_type": "code",
   "execution_count": null,
   "id": "def36226",
   "metadata": {
    "ExecuteTime": {
     "end_time": "2024-04-02T15:17:13.859090Z",
     "start_time": "2024-04-02T15:17:13.849927Z"
    }
   },
   "outputs": [],
   "source": [
    "def get_table(table_id, retry_strategy=my_retry_strategy):\n",
    "    table = Table(api_key, base_id, table_id, retry_strategy=retry_strategy)\n",
    "    return table"
   ]
  },
  {
   "cell_type": "code",
   "execution_count": null,
   "id": "0222aba9",
   "metadata": {
    "ExecuteTime": {
     "end_time": "2024-04-02T15:17:13.876860Z",
     "start_time": "2024-04-02T15:17:13.864866Z"
    }
   },
   "outputs": [],
   "source": [
    "def get_base_schema():\n",
    "    base = Base(api_key,base_id)\n",
    "    schema = metadata.get_base_schema(base)\n",
    "    return(schema)"
   ]
  },
  {
   "cell_type": "markdown",
   "id": "e4a23fd8",
   "metadata": {
    "ExecuteTime": {
     "end_time": "2024-01-29T18:12:56.000687Z",
     "start_time": "2024-01-29T18:12:55.990458Z"
    }
   },
   "source": [
    "# Backup schema"
   ]
  },
  {
   "cell_type": "code",
   "execution_count": null,
   "id": "72535585-b6e6-43a5-8567-bb6a9eeba7c6",
   "metadata": {
    "ExecuteTime": {
     "end_time": "2024-04-02T15:17:13.894084Z",
     "start_time": "2024-04-02T15:17:13.882285Z"
    }
   },
   "outputs": [],
   "source": [
    "def compress_folder_to_tar_xz(folder_path, output_file):\n",
    "    with lzma.open(output_file, \"w\") as f:\n",
    "        with tarfile.open(fileobj=f, mode=\"w\") as tar:\n",
    "            for root, dirs, files in os.walk(folder_path):\n",
    "                for file in files:\n",
    "                    file_path = os.path.join(root, file)\n",
    "                    tar.add(file_path, arcname=os.path.relpath(file_path, folder_path))"
   ]
  },
  {
   "cell_type": "code",
   "execution_count": null,
   "id": "43104884",
   "metadata": {
    "ExecuteTime": {
     "end_time": "2024-04-02T15:18:43.374389Z",
     "start_time": "2024-04-02T15:17:13.899184Z"
    }
   },
   "outputs": [],
   "source": [
    "while True:\n",
    "    # prepare folder\n",
    "    now = str(datetime.now())\n",
    "    \n",
    "    backup_folder = pathlib.Path( f\"../airtable_backups/airtable_{now}\")\n",
    "    if not os.path.exists(backup_folder):\n",
    "        os.makedirs(backup_folder)\n",
    "        \n",
    "    \n",
    "    # backup schema\n",
    "    schema=get_base_schema()\n",
    "    \n",
    "    with open(backup_folder/\"schema.json\",\"w\") as json_file:\n",
    "        json.dump(schema, json_file, indent=4)\n",
    "    \n",
    "    # backup tables\n",
    "    for table in schema.get(\"tables\"):\n",
    "        \n",
    "        table_id = table.get(\"id\")\n",
    "        table = get_table(table_id)\n",
    "        \n",
    "        data = table.all()\n",
    "        with open(backup_folder/f\"{table_id}.json\",\"w\") as json_file:\n",
    "            json.dump(data, json_file, indent=4)            \n",
    "\n",
    "    logging.info(\"Backup completed. Waiting for next backup cycle.\")\n",
    "\n",
    "    # compress\n",
    "    tar_xz_file=f\"{backup_folder}.tar.xz\"\n",
    "    compress_folder_to_tar_xz(backup_folder,tar_xz_file)\n",
    "\n",
    "    # backup to drive\n",
    "    upload_to_drive(remote_name, tar_xz_file)\n",
    "    \n",
    "    \n",
    "    # Waiting with status updates\n",
    "    wait_time = 86400  # 24 hours\n",
    "    intervals = 12  # Number of intervals to break the wait into\n",
    "    interval_duration = wait_time / intervals\n",
    "\n",
    "    for _ in range(intervals):\n",
    "        time.sleep(interval_duration)\n",
    "        logging.info(\"Waiting for the next backup cycle...\")\n",
    "\n",
    "    logging.info(\"Starting new backup cycle.\")\n",
    "\n"
   ]
  },
  {
   "cell_type": "code",
   "execution_count": null,
   "id": "13df4dda-c402-4c5d-9e63-4e551c5a0188",
   "metadata": {},
   "outputs": [],
   "source": []
  }
 ],
 "metadata": {
  "hide_input": false,
  "kernelspec": {
   "display_name": "Python 3 (ipykernel)",
   "language": "python",
   "name": "python3"
  },
  "language_info": {
   "codemirror_mode": {
    "name": "ipython",
    "version": 3
   },
   "file_extension": ".py",
   "mimetype": "text/x-python",
   "name": "python",
   "nbconvert_exporter": "python",
   "pygments_lexer": "ipython3",
   "version": "3.9.18"
  },
  "toc": {
   "base_numbering": 1,
   "nav_menu": {},
   "number_sections": true,
   "sideBar": true,
   "skip_h1_title": false,
   "title_cell": "Table of Contents",
   "title_sidebar": "Contents",
   "toc_cell": false,
   "toc_position": {},
   "toc_section_display": true,
   "toc_window_display": true
  }
 },
 "nbformat": 4,
 "nbformat_minor": 5
}
