{
 "cells": [
  {
   "cell_type": "code",
   "execution_count": 17,
   "id": "acd4b3f7-785f-4659-a41e-cfe7b2b37172",
   "metadata": {
    "ExecuteTime": {
     "end_time": "2023-12-01T18:41:35.485540Z",
     "start_time": "2023-12-01T18:41:35.436519Z"
    }
   },
   "outputs": [],
   "source": [
    "import os\n",
    "from functools import partial\n",
    "\n",
    "from pyairtable import Base, Table, retry_strategy\n",
    "from pyairtable.metadata import get_base_schema"
   ]
  },
  {
   "cell_type": "code",
   "execution_count": 10,
   "id": "2414485b-f553-4549-8178-02f750d716be",
   "metadata": {},
   "outputs": [],
   "source": [
    "my_retry_strategy = retry_strategy(total=3, backoff_factor=2)"
   ]
  },
  {
   "cell_type": "code",
   "execution_count": 11,
   "id": "20ee97c3-39b8-49ac-a4e9-c2cc545949fa",
   "metadata": {
    "ExecuteTime": {
     "end_time": "2023-12-01T18:41:35.502162Z",
     "start_time": "2023-12-01T18:41:35.497350Z"
    }
   },
   "outputs": [],
   "source": [
    "os.environ\n",
    "api_key = os.getenv(\"AIRTABLE_API_KEY\")\n",
    "base_id = os.getenv(\"BASE_ID\")"
   ]
  },
  {
   "cell_type": "code",
   "execution_count": 12,
   "id": "83879d02-b350-4f0c-bcd3-45d16aeea52a",
   "metadata": {
    "ExecuteTime": {
     "end_time": "2023-12-01T18:41:35.507936Z",
     "start_time": "2023-12-01T18:41:35.504450Z"
    }
   },
   "outputs": [],
   "source": [
    "def get_table(table_id, retry_strategy=my_retry_strategy):\n",
    "    table = Table(api_key, base_id, table_id, retry_strategy=retry_strategy)\n",
    "    return table\n",
    "\n",
    "# example function to load one specific table:\n",
    "# get_plates_table = partial(get_table, plates_table_id)"
   ]
  },
  {
   "cell_type": "code",
   "execution_count": 13,
   "id": "f16dedba-4e89-4929-b799-540923fa759a",
   "metadata": {
    "ExecuteTime": {
     "end_time": "2023-12-01T18:41:35.536647Z",
     "start_time": "2023-12-01T18:41:35.531598Z"
    }
   },
   "outputs": [],
   "source": [
    "def get_table_schema(table_id):\n",
    "    base = Base(api_key,base_id)\n",
    "    schema = get_base_schema(base)\n",
    "    return [tb for tb in schema.get(\"tables\") if tb.get(\"id\")==table_id][0]"
   ]
  },
  {
   "cell_type": "code",
   "execution_count": 14,
   "id": "29ecd401",
   "metadata": {
    "ExecuteTime": {
     "end_time": "2023-12-01T18:41:35.543263Z",
     "start_time": "2023-12-01T18:41:35.537931Z"
    }
   },
   "outputs": [],
   "source": [
    "def test_airtable_connection():\n",
    "    try:\n",
    "        get_dashboard_table().all()\n",
    "        return True\n",
    "    except Exception as e:\n",
    "        return False"
   ]
  },
  {
   "cell_type": "code",
   "execution_count": null,
   "id": "48642e5f-c5ca-4e0f-a38b-17f4c77d1096",
   "metadata": {},
   "outputs": [],
   "source": []
  }
 ],
 "metadata": {
  "hide_input": false,
  "kernelspec": {
   "display_name": "Python 3 (ipykernel)",
   "language": "python",
   "name": "python3"
  },
  "language_info": {
   "codemirror_mode": {
    "name": "ipython",
    "version": 3
   },
   "file_extension": ".py",
   "mimetype": "text/x-python",
   "name": "python",
   "nbconvert_exporter": "python",
   "pygments_lexer": "ipython3",
   "version": "3.9.18"
  },
  "toc": {
   "base_numbering": 1,
   "nav_menu": {},
   "number_sections": true,
   "sideBar": true,
   "skip_h1_title": false,
   "title_cell": "Table of Contents",
   "title_sidebar": "Contents",
   "toc_cell": false,
   "toc_position": {
    "height": "397px",
    "left": "1335px",
    "top": "427px",
    "width": "376px"
   },
   "toc_section_display": true,
   "toc_window_display": true
  }
 },
 "nbformat": 4,
 "nbformat_minor": 5
}
