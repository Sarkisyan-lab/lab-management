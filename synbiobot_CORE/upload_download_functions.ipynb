{
 "cells": [
  {
   "cell_type": "code",
   "execution_count": null,
   "id": "d9e781cc-c4f3-4351-adf4-26c7c31988f0",
   "metadata": {},
   "outputs": [],
   "source": [
    "import logging\n",
    "import shutil\n",
    "import subprocess\n",
    "import os\n",
    "import time\n",
    "from tempfile import gettempdir\n",
    "import requests\n",
    "from pathlib import Path\n",
    "import json"
   ]
  },
  {
   "cell_type": "code",
   "execution_count": null,
   "id": "c9bbaa6a-7a16-4340-8a58-75e4aaaab576",
   "metadata": {},
   "outputs": [],
   "source": [
    "from dotenv import load_dotenv"
   ]
  },
  {
   "cell_type": "markdown",
   "id": "6cfeb134-5db3-4c3b-b06e-dca876b94aa7",
   "metadata": {},
   "source": [
    "# Logging"
   ]
  },
  {
   "cell_type": "code",
   "execution_count": null,
   "id": "ea786f50-b9d5-46e5-a54c-2f6dd9018859",
   "metadata": {},
   "outputs": [],
   "source": [
    "console_handler = logging.StreamHandler()  # Console handler\n",
    "file_handler = logging.FileHandler('log.log')  # File handler\n",
    "\n",
    "# Configure the logging module\n",
    "logging.basicConfig(level=logging.INFO,  # Set logging level to INFO\n",
    "                    format='%(asctime)s - %(name)s - %(levelname)s - %(message)s',  # Set log message format\n",
    "                    datefmt='%Y-%m-%d %H:%M:%S',  # Set date format for log messages\n",
    "                    handlers=[console_handler, file_handler])  # Log to both console and file"
   ]
  },
  {
   "cell_type": "markdown",
   "id": "a4490855-746c-480a-9f65-be22df648797",
   "metadata": {},
   "source": [
    "# Constants"
   ]
  },
  {
   "cell_type": "code",
   "execution_count": null,
   "id": "0250fc42-c1a6-4302-b37f-6a1dd8c18402",
   "metadata": {},
   "outputs": [],
   "source": [
    "load_dotenv('core.env',override=True)\n",
    "work_dir = Path(gettempdir())"
   ]
  },
  {
   "cell_type": "markdown",
   "id": "507617b2-7365-4e4f-b538-a546c7856d10",
   "metadata": {},
   "source": [
    "# Rclone config"
   ]
  },
  {
   "cell_type": "code",
   "execution_count": null,
   "id": "62dabc9a-80f4-4b7a-b674-2c8a8a5ade67",
   "metadata": {},
   "outputs": [],
   "source": [
    "json_filename=os.environ['JSON_FILENAME']\n",
    "\n",
    "client_secret=os.environ['PRIVATE_KEY_ID']\n",
    "project_id=os.environ['PROJECT_ID']\n",
    "private_key=os.environ['PRIVATE_KEY']\n",
    "client_email=os.environ['CLIENT_EMAIL']\n",
    "client_id=os.environ['CLIENT_ID']\n",
    "auth_uri=os.environ['AUTH_URI']\n",
    "token_uri=os.environ['TOKEN_URI']\n",
    "auth_provider_x509_cert_url=os.environ['AUTH_PROVIDER_X509_CERT_URL']\n",
    "client_x509_cert_url=os.environ['CLIENT_X509_CERT_URL']\n",
    "team_drive=os.environ['TEAM_DRIVE']\n",
    "root_folder_id=os.environ['ROOT_FOLDER_ID']\n",
    "\n",
    "remote_name=os.environ['REMOTE_NAME']"
   ]
  },
  {
   "cell_type": "code",
   "execution_count": null,
   "id": "163374a8-39e6-4dc7-8f54-8f01bf741c14",
   "metadata": {},
   "outputs": [],
   "source": [
    "secret_json={\n",
    "    \"type\": \"service_account\",\n",
    "    \"project_id\": project_id,\n",
    "    \"private_key_id\": client_secret,\n",
    "    \"private_key\": private_key.replace('\\\\n','\\n'),\n",
    "    \"client_email\": client_email,\n",
    "    \"client_id\": client_id,\n",
    "    \"auth_uri\": auth_uri,\n",
    "    \"token_uri\": token_uri,\n",
    "    \"auth_provider_x509_cert_url\": auth_provider_x509_cert_url,\n",
    "    \"client_x509_cert_url\": client_x509_cert_url,\n",
    "    \"universe_domain\": \"googleapis.com\"\n",
    "}\n",
    "\n",
    "secret_json_path = Path(gettempdir())/json_filename\n",
    "\n",
    "with open(secret_json_path, 'w') as file:\n",
    "    json.dump(secret_json,file,indent=2)"
   ]
  },
  {
   "cell_type": "code",
   "execution_count": null,
   "id": "7a5aef1d-8e27-4868-bb03-c7ec09ef87ab",
   "metadata": {},
   "outputs": [],
   "source": [
    "rclone_config=f\"\"\"[{remote_name}]\n",
    "type = drive\n",
    "client_id = {client_id}\n",
    "client_secret = {client_secret}\n",
    "scope = drive\n",
    "service_account_file = {secret_json_path}\n",
    "team_drive = {team_drive}\n",
    "root_folder_id = {root_folder_id}\n",
    "\"\"\"\n",
    "\n",
    "rclone_config_filename=f'{remote_name}_rclone.conf'\n",
    "rclone_config_path=Path(gettempdir())/rclone_config_filename\n",
    "\n",
    "with open(rclone_config_path, 'w') as file:\n",
    "    file.write(rclone_config)"
   ]
  },
  {
   "cell_type": "code",
   "execution_count": null,
   "id": "15322fd3-d887-4375-bb2a-e66eb5b34bd6",
   "metadata": {},
   "outputs": [],
   "source": [
    "# result = subprocess.run(['rclone', '--config', str(rclone_config_path), 'copy', 'bee.png', f\"{remote_name}:\"], capture_output=True, text=True)"
   ]
  },
  {
   "cell_type": "code",
   "execution_count": null,
   "id": "2a9260c9-7618-47bd-ac2e-dd257ef784bf",
   "metadata": {},
   "outputs": [],
   "source": []
  },
  {
   "cell_type": "code",
   "execution_count": null,
   "id": "1538a091-b412-4e1b-990a-b5c70849b70c",
   "metadata": {},
   "outputs": [],
   "source": [
    "def file_exists_in_remote(remote_name: str, filename: str, verbose:bool=True) -> bool:\n",
    "    \"\"\"Check if a file exists in the given remote.\"\"\"\n",
    "\n",
    "    try:\n",
    "        if verbose: logging.info(f\"Checking if the file {filename} exists on remote {remote_name}\")\n",
    "        result = subprocess.run([\"rclone\",'--config',rclone_config_path,\"lsf\", f\"{remote_name}:\"], capture_output=True, check=True, text=True)\n",
    "        # Check if filename is in the list of files. This assumes filenames are unique in the root.\n",
    "        result_bool = filename in result.stdout.splitlines()\n",
    "        if result_bool:\n",
    "            if verbose: logging.info(f\"The file {filename} exists on remote {remote_name}.\")\n",
    "            return True\n",
    "        else:\n",
    "            if verbose: logging.info(f\"The file {filename} does not exist on remote {remote_name}.\")\n",
    "            return False\n",
    "    except subprocess.CalledProcessError:\n",
    "        logging.exception(f\"Failed to check if the file {filename} exists on remote {remote_name}.\")\n",
    "        return False\n"
   ]
  },
  {
   "cell_type": "code",
   "execution_count": null,
   "id": "15a400c3-1fe4-4148-bed5-a31286c528e8",
   "metadata": {},
   "outputs": [],
   "source": []
  },
  {
   "cell_type": "code",
   "execution_count": null,
   "id": "9ca4f5b1-8b90-48ca-99e6-db76a76e2c96",
   "metadata": {},
   "outputs": [],
   "source": []
  },
  {
   "cell_type": "code",
   "execution_count": null,
   "id": "18368994-5266-4049-a38d-eaae8bd46ed4",
   "metadata": {},
   "outputs": [],
   "source": [
    "def upload_to_drive(remote_name: str, file_path: str, verbose: bool = True, new_filename: str = None) -> str:\n",
    "    \"\"\"Uploads the file [file_path] to Google Drive (using rclone remote [remote_name]), and returns the public link.\"\"\"\n",
    "\n",
    "    filename = os.path.basename(file_path)\n",
    "    dest = f\"{remote_name}:{filename}\"\n",
    "\n",
    "    # If new_filename is provided, create a temporary copy of the file with the new name\n",
    "    if new_filename:\n",
    "        temp_dir = gettempdir()\n",
    "        temp_file_path = os.path.join(temp_dir, new_filename)\n",
    "        shutil.copyfile(file_path, temp_file_path)\n",
    "        file_path = temp_file_path\n",
    "        dest = f\"{remote_name}:{new_filename}\"\n",
    "\n",
    "    # Check and delete remote file if it exists\n",
    "    if new_filename:\n",
    "        file_to_delete = new_filename\n",
    "    else:\n",
    "        file_to_delete = filename\n",
    "\n",
    "    if file_exists_in_remote(remote_name=remote_name, filename=file_to_delete, verbose=verbose):\n",
    "        if verbose: logging.info(f\"Deleting existing file on the remote.\")\n",
    "        try:\n",
    "            subprocess.run([\"rclone\",'--config',rclone_config_path, \"deletefile\", f\"{remote_name}:{file_to_delete}\"], capture_output=True, check=True, shell=False)\n",
    "            if verbose: logging.info(f\"Successfully deleted existing file {file_to_delete} on the remote.\")\n",
    "        except subprocess.CalledProcessError as e:\n",
    "            logging.exception(f\"Failed to delete existing file {file_to_delete} on the remote\")\n",
    "    \n",
    "    time.sleep(1)\n",
    "    \n",
    "    # Copy file\n",
    "    if verbose: logging.info(f\"Copying file {file_path} to the remote {remote_name}.\")\n",
    "    try:\n",
    "        subprocess.run([\"rclone\",'--config',rclone_config_path,\"copy\", file_path, f\"{remote_name}:\"], capture_output=True, check=True, shell=False)\n",
    "        if verbose: logging.info(f\"Successfully copied the file {file_path} to the remote {remote_name}.\")\n",
    "    except subprocess.CalledProcessError as e:\n",
    "        logging.exception(f\"Failed to copy the file {file_path} to the remote {remote_name}.\")\n",
    "        return None\n",
    "    time.sleep(1)\n",
    "    \n",
    "    # Get public link (retry a few times with a delay)\n",
    "    public_link = str()\n",
    "    last_error = str()\n",
    "    if verbose: logging.info(f\"Obtaining public link of file {file_path} on the remote {remote_name}.\")\n",
    "    for i in range(5):\n",
    "        if not public_link:\n",
    "            try:\n",
    "                result = subprocess.run([\"rclone\",'--config',rclone_config_path, \"link\", dest], capture_output=True, check=True, text=True, shell=False)\n",
    "                public_link = result.stdout.strip()\n",
    "                public_link = public_link.replace(\"open?\", \"uc?export=download&\")\n",
    "                if verbose: logging.info(f\"Successfully obtained public link of file {file_path} on the remote {remote_name}.\")\n",
    "                return public_link\n",
    "            except subprocess.CalledProcessError as e:\n",
    "                last_error = e\n",
    "                time.sleep(10)\n",
    "    \n",
    "    # If the loop completes and public_link is still not set, log the error.\n",
    "    if not public_link:\n",
    "        logging.error(f\"Failed to obtain public link of file {file_path} on the remote {remote_name}.\")\n",
    "        \n",
    "    return None"
   ]
  },
  {
   "cell_type": "code",
   "execution_count": null,
   "id": "97966efe-8a86-47f4-944c-dfe24f4bfbf1",
   "metadata": {},
   "outputs": [],
   "source": [
    "# upload_to_drive(remote_name,'bee.png')"
   ]
  }
 ],
 "metadata": {
  "kernelspec": {
   "display_name": "Python 3 (ipykernel)",
   "language": "python",
   "name": "python3"
  },
  "language_info": {
   "codemirror_mode": {
    "name": "ipython",
    "version": 3
   },
   "file_extension": ".py",
   "mimetype": "text/x-python",
   "name": "python",
   "nbconvert_exporter": "python",
   "pygments_lexer": "ipython3",
   "version": "3.9.18"
  }
 },
 "nbformat": 4,
 "nbformat_minor": 5
}
