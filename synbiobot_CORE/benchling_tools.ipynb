{
 "cells": [
  {
   "cell_type": "markdown",
   "metadata": {},
   "source": [
    "# Imports"
   ]
  },
  {
   "cell_type": "code",
   "execution_count": 1,
   "metadata": {
    "ExecuteTime": {
     "end_time": "2022-05-13T15:09:03.639322Z",
     "start_time": "2022-05-13T15:09:03.583275Z"
    }
   },
   "outputs": [],
   "source": [
    "#!/usr/bin/python3\n",
    "\n",
    "import os \n",
    "from os import listdir, mkdir, system\n",
    "from os.path import isfile, join\n",
    "import shutil\n",
    "import sys\n",
    "\n",
    "import urllib\n",
    "from random import randint\n",
    "from time import sleep\n",
    "from benchlingapi import Session\n",
    "import json\n",
    "\n",
    "from Bio import SeqIO\n",
    "from Bio.SeqFeature import *\n",
    "from Bio.SeqIO import *\n",
    "from Bio.Seq import *\n",
    "import copy\n",
    "import urllib\n",
    "import pathlib"
   ]
  },
  {
   "cell_type": "markdown",
   "metadata": {},
   "source": [
    "# Constants"
   ]
  },
  {
   "cell_type": "code",
   "execution_count": 2,
   "metadata": {
    "ExecuteTime": {
     "end_time": "2022-05-13T15:09:04.282004Z",
     "start_time": "2022-05-13T15:09:04.275400Z"
    }
   },
   "outputs": [],
   "source": [
    "verbose=True"
   ]
  },
  {
   "cell_type": "code",
   "execution_count": 3,
   "metadata": {
    "ExecuteTime": {
     "end_time": "2022-05-13T15:09:04.740437Z",
     "start_time": "2022-05-13T15:09:04.718873Z"
    }
   },
   "outputs": [],
   "source": [
    "try:\n",
    "    from dotenv import load_dotenv\n",
    "    load_dotenv()\n",
    "except:\n",
    "    pass"
   ]
  },
  {
   "cell_type": "code",
   "execution_count": 6,
   "metadata": {
    "ExecuteTime": {
     "end_time": "2022-04-28T13:11:18.332956Z",
     "start_time": "2022-04-28T13:11:16.542371Z"
    }
   },
   "outputs": [],
   "source": [
    "benchling_api_key=os.getenv(\"BENCHLING_API_KEY\")\n",
    "session = Session(benchling_api_key)\n",
    "#session.DNASequence.one()"
   ]
  },
  {
   "cell_type": "markdown",
   "metadata": {},
   "source": [
    "# Functions"
   ]
  },
  {
   "cell_type": "code",
   "execution_count": 7,
   "metadata": {
    "ExecuteTime": {
     "end_time": "2022-04-25T09:25:00.008092Z",
     "start_time": "2022-04-25T09:24:59.999585Z"
    }
   },
   "outputs": [],
   "source": [
    "def SeqFeature_to_BenchlingFeature(feature):\n",
    "    new_annot=session.Annotation()\n",
    "    new_annot.name=feature.qualifiers[\"label\"][0]\n",
    "    new_annot.start=feature.location.start\n",
    "    new_annot.end=feature.location.end\n",
    "    new_annot.strand=feature.strand\n",
    "    new_annot.type=feature.type\n",
    "    return(new_annot)\n",
    "\n",
    "def make_benchling_construct(name,sequence,annotations,is_circular=True):    \n",
    "    \n",
    "    # connect to benchling\n",
    "    folder = session.Folder.find_by_name(\"Sarkisyan lab DB\")\n",
    "    \n",
    "    # make dna\n",
    "    dna = session.DNASequence(\n",
    "        name = name,\n",
    "        bases = sequence,\n",
    "        folder_id = folder.id,\n",
    "        is_circular = is_circular)\n",
    "\n",
    "    dna.annotations=annotations\n",
    "    dna.save()\n",
    "    \n",
    "    return(dna)"
   ]
  },
  {
   "cell_type": "markdown",
   "metadata": {},
   "source": [
    "# Fetching construcs using non-public links"
   ]
  },
  {
   "cell_type": "code",
   "execution_count": 8,
   "metadata": {
    "ExecuteTime": {
     "end_time": "2022-03-28T16:06:52.197144Z",
     "start_time": "2022-03-28T16:06:52.188282Z"
    }
   },
   "outputs": [],
   "source": [
    "# adapted from benchlingapi v1 \n",
    "# see https://pypi.org/project/benchlingapi/1.0/\n",
    "\n",
    "def encode_dictionary(dictionary):\n",
    "    for key in dictionary:\n",
    "        if isinstance(dictionary[key], str):\n",
    "            dictionary[key] = dictionary[key].encode('utf-8')\n",
    "        elif isinstance(dictionary[key], dict):\n",
    "            encode_dictionary(dictionary[key])\n",
    "    return\n",
    "\n",
    "\n",
    "def _convert_benchling_features(benchling_seq):\n",
    "    seqfeatures = []\n",
    "    for ftr in benchling_seq.annotations:\n",
    "        # if ftr.end==0, set to plasmid len instead\n",
    "        if ftr.end==0:ftr.end=benchling_seq.length #xxx\n",
    "        \n",
    "        info = \\\n",
    "            dict(location=FeatureLocation(ftr.start, ftr.end), type=ftr.type, strand=ftr.strand,\n",
    "                 id=ftr.name, qualifiers={\n",
    "                    'label': ftr.name,\n",
    "                    'ApEinfo_fwdcolor': ftr.color,\n",
    "                    'ApEinfo_revcolor': ftr.color,\n",
    "                    'color': ftr.color\n",
    "                })\n",
    "        if info['type'].strip() == '':\n",
    "            info['type'] = 'misc'\n",
    "        info = copy.deepcopy(info)\n",
    "        #encode_dictionary(info)\n",
    "        seqfeature = SeqFeature(**info)\n",
    "        seqfeatures.append(seqfeature)\n",
    "    return seqfeatures\n",
    "\n",
    "def _clean_seqrecord_features(seqrecord):\n",
    "    new_feature_set = []\n",
    "    for f in seqrecord.features:\n",
    "        if f.type.strip() == '':\n",
    "            f.type = 'misc'\n",
    "        if f.location.start < 0:\n",
    "            continue\n",
    "        elif f.location.end < 0:\n",
    "            continue\n",
    "        new_feature_set.append(f)\n",
    "    seqrecord.features = new_feature_set\n",
    "\n",
    "def seqbenchling_to_seqrecord(benchling_seq):\n",
    "    bseq = benchling_seq\n",
    "    features = _convert_benchling_features(bseq)\n",
    "    seq = Seq(bseq.bases)\n",
    "    \n",
    "    topology=\"circular\" if bseq.is_circular else \"linear\"\n",
    "    kwargs = {\n",
    "        'description':bseq.name,\n",
    "        'dbxrefs': bseq.aliases,\n",
    "        'features': features,\n",
    "        'annotations': {'full_name': bseq.name.encode('utf-8'),\n",
    "                        \"molecule_type\":\"DNA\",\n",
    "                        \"topology\":topology},\n",
    "        'letter_annotations': None,\n",
    "        'name':\"somename\",# str(bseq.name[:10]),\n",
    "        'id': str(bseq.id)\n",
    "    }\n",
    "    \n",
    "    kwargs = copy.deepcopy(kwargs)\n",
    "    #encode_dictionary(kwargs)\n",
    "    for key in kwargs:\n",
    "        \"\"\"if isinstance(kwargs[key], str):\n",
    "            kwargs[key] = kwargs[key].encode('utf-8')\"\"\"\n",
    "    seqrec = SeqRecord(seq, **kwargs)\n",
    "    _clean_seqrecord_features(seqrec)\n",
    "    return seqrec\n",
    "\n",
    "\n",
    "def write_to_gb(seqrecord, filename):\n",
    "    with open(filename, 'w') as handle:\n",
    "        SeqIO.write(seqrecord, handle, 'genbank')\n",
    "        handle.close()\n",
    "\n"
   ]
  },
  {
   "cell_type": "code",
   "execution_count": 9,
   "metadata": {
    "ExecuteTime": {
     "end_time": "2022-03-28T16:19:10.114758Z",
     "start_time": "2022-03-28T16:19:10.110699Z"
    }
   },
   "outputs": [],
   "source": [
    "\n",
    "def benchling_to_gb(url,filename,verbose=False):\n",
    "\n",
    "    if isinstance(filename,pathlib.Path):\n",
    "        filename=str(filename)\n",
    "        \n",
    "    if filename.endswith(\".json\"):\n",
    "        filename.replace(\".json\",\".gb\")\n",
    "    elif filename.endswith(\".gb\"):\n",
    "        pass\n",
    "    else:\n",
    "        filename=f\"{filename}.gb\"\n",
    "    \n",
    "    try : # get from public link\n",
    "        urllib.request.urlretrieve(url.split(\"?\")[0]+\".gb\", filename)\n",
    "        if verbose: print(f\"INFO: Fetched construct using shared link\")\n",
    "    except: # login and try again\n",
    "        try:\n",
    "            seqbenchling = session.DNASequence.from_share_link(url)\n",
    "            seqrecord = seqbenchling_to_seqrecord(seqbenchling)\n",
    "            write_to_gb(seqrecord,filename)\n",
    "            if verbose:print(f\"INFO: Fetched construct using login\")\n",
    "\n",
    "        except:\n",
    "            raise Exception(f\"Could not fetch construct {url}\")\n",
    "\n",
    "    \n"
   ]
  },
  {
   "cell_type": "code",
   "execution_count": 10,
   "metadata": {
    "ExecuteTime": {
     "end_time": "2022-03-28T16:06:52.212615Z",
     "start_time": "2022-03-28T16:06:52.206991Z"
    }
   },
   "outputs": [],
   "source": [
    "def get_benchling_json(url,filename):\n",
    "    \"\"\"uses benchling construct link and json output filename\"\"\"\n",
    "    \n",
    "    seqbenchling = session.DNASequence.from_share_link(url)\n",
    "\n",
    "    if isinstance(filename,pathlib.Path):\n",
    "        filename=str(filename)\n",
    "    \n",
    "    if filename.endswith(\".json\"):\n",
    "        pass\n",
    "    elif filename.endswith(\".gb\"):\n",
    "        filename.replace(\".gb\",\".json\")\n",
    "    else:\n",
    "        filename=f\"{filename}.json\"\n",
    "        \n",
    "    with open(filename,\"w\") as out:\n",
    "        out.write(json.dumps(seqbenchling.save_json(),\n",
    "                             indent=4))\n"
   ]
  },
  {
   "cell_type": "code",
   "execution_count": null,
   "metadata": {},
   "outputs": [],
   "source": []
  }
 ],
 "metadata": {
  "kernelspec": {
   "display_name": "Python 3 (ipykernel)",
   "language": "python",
   "name": "python3"
  },
  "language_info": {
   "codemirror_mode": {
    "name": "ipython",
    "version": 3
   },
   "file_extension": ".py",
   "mimetype": "text/x-python",
   "name": "python",
   "nbconvert_exporter": "python",
   "pygments_lexer": "ipython3",
   "version": "3.9.18"
  },
  "toc": {
   "base_numbering": 1,
   "nav_menu": {},
   "number_sections": true,
   "sideBar": true,
   "skip_h1_title": false,
   "title_cell": "Table of Contents",
   "title_sidebar": "Contents",
   "toc_cell": false,
   "toc_position": {
    "height": "820px",
    "left": "92px",
    "top": "78px",
    "width": "296.79px"
   },
   "toc_section_display": true,
   "toc_window_display": true
  },
  "varInspector": {
   "cols": {
    "lenName": 16,
    "lenType": 16,
    "lenVar": 40
   },
   "kernels_config": {
    "python": {
     "delete_cmd_postfix": "",
     "delete_cmd_prefix": "del ",
     "library": "var_list.py",
     "varRefreshCmd": "print(var_dic_list())"
    },
    "r": {
     "delete_cmd_postfix": ") ",
     "delete_cmd_prefix": "rm(",
     "library": "var_list.r",
     "varRefreshCmd": "cat(var_dic_list()) "
    }
   },
   "position": {
    "height": "387px",
    "left": "1575px",
    "right": "20px",
    "top": "80px",
    "width": "273px"
   },
   "types_to_exclude": [
    "module",
    "function",
    "builtin_function_or_method",
    "instance",
    "_Feature"
   ],
   "window_display": false
  }
 },
 "nbformat": 4,
 "nbformat_minor": 4
}
