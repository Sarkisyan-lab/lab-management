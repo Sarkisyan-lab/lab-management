{
 "cells": [
  {
   "cell_type": "markdown",
   "metadata": {},
   "source": [
    "# Imports"
   ]
  },
  {
   "cell_type": "code",
   "execution_count": null,
   "metadata": {
    "ExecuteTime": {
     "end_time": "2023-07-14T13:27:11.583595Z",
     "start_time": "2023-07-14T13:27:10.495719Z"
    }
   },
   "outputs": [],
   "source": [
    "import os\n",
    "import sys\n",
    "import re\n",
    "from random import shuffle,randint\n",
    "import time\n",
    "import validators\n",
    "from Bio import SeqIO\n",
    "import urllib\n",
    "import logging"
   ]
  },
  {
   "cell_type": "code",
   "execution_count": null,
   "metadata": {},
   "outputs": [],
   "source": [
    "if os.path.exists('../synbiobot_CORE'):\n",
    "    sys.path.append('../synbiobot_CORE')\n",
    "\n",
    "from airtable_config import *\n",
    "from benchling_tools import benchling_to_gb"
   ]
  },
  {
   "cell_type": "markdown",
   "metadata": {},
   "source": [
    "# Logging"
   ]
  },
  {
   "cell_type": "code",
   "execution_count": null,
   "metadata": {},
   "outputs": [],
   "source": [
    "console_handler = logging.StreamHandler()  # Console handler\n",
    "file_handler = logging.FileHandler('log.log')  # File handler\n",
    "\n",
    "# Configure the logging module\n",
    "logging.basicConfig(level=logging.INFO,  # Set logging level to INFO\n",
    "                    format='%(asctime)s - %(name)s - %(levelname)s - %(message)s',  # Set log message format\n",
    "                    datefmt='%Y-%m-%d %H:%M:%S',  # Set date format for log messages\n",
    "                    handlers=[console_handler, file_handler])  # Log to both console and file"
   ]
  },
  {
   "cell_type": "markdown",
   "metadata": {},
   "source": [
    "# Constants"
   ]
  },
  {
   "cell_type": "code",
   "execution_count": null,
   "metadata": {},
   "outputs": [],
   "source": [
    "api_key = os.getenv(\"AIRTABLE_API_KEY\")\n",
    "base_key=os.getenv(\"BASE_ID\")\n",
    "\n",
    "C_table_id = os.getenv(\"TABLE_C_ID\")\n",
    "benchling_api_key=os.getenv(\"BENCHLING_API_KEY\")\n",
    "\n",
    "if not all([api_key,base_key,C_table_id,benchling_api_key]):\n",
    "    raise ValueError(\"One or more env var is empty\")"
   ]
  },
  {
   "cell_type": "code",
   "execution_count": null,
   "metadata": {},
   "outputs": [],
   "source": [
    "get_C_table= partial(get_table, C_table_id)"
   ]
  },
  {
   "cell_type": "markdown",
   "metadata": {},
   "source": [
    "# Main"
   ]
  },
  {
   "cell_type": "code",
   "execution_count": null,
   "metadata": {},
   "outputs": [],
   "source": []
  },
  {
   "cell_type": "code",
   "execution_count": null,
   "metadata": {
    "ExecuteTime": {
     "end_time": "2022-04-05T12:51:39.123802Z",
     "start_time": "2022-04-05T12:51:31.230088Z"
    },
    "scrolled": true
   },
   "outputs": [],
   "source": [
    "while True:\n",
    "\n",
    "    try:\n",
    "\n",
    "        C_table = get_C_table()\n",
    "\n",
    "        C_table_records = C_table.all()\n",
    "        C_table_records = sorted(C_table_records, key=lambda x:int(x.get(\"fields\").get(\"ID\").replace(\"dna\",\"\")))\n",
    "        C_table_records.reverse()\n",
    "        \n",
    "        C_table_no_size = [elt for elt in C_table_records if not elt.get(\"fields\").get(\"size\")]\n",
    "        C_table_has_size = [elt for elt in C_table_records if elt.get(\"fields\").get(\"size\")]\n",
    "        \n",
    "        # subsample a few records to update that already have a length\n",
    "        shuffle(C_table_has_size)\n",
    "        C_table_has_size = C_table_has_size[:20]\n",
    "\n",
    "    \n",
    "        for C_record in C_table_no_size+C_table_has_size:\n",
    "\n",
    "            dna= C_record.get(\"fields\").get(\"ID\")\n",
    "            url=None\n",
    "\n",
    "            logging.info(f\"Checking {dna}\")\n",
    "                \n",
    "            dna=C_record.get(\"fields\").get(\"ID\")\n",
    "            gbfile=f\"/tmp/{dna}.gb\"\n",
    "            url=C_record.get(\"fields\").get(\"Benchling link (public)\",\"\")\n",
    "            if validators.url(url) :\n",
    "                # this is the slow bit\n",
    "                url=url.split(\"?\")[0]\n",
    "                try:\n",
    "                    urllib.request.urlretrieve(url.replace(\" \",\"\")+\".gb\", gbfile)\n",
    "                except:\n",
    "                    try:\n",
    "                        benchling_to_gb(url,gbfile)\n",
    "                    except:\n",
    "                        gbfile=None\n",
    "        \n",
    "                try:\n",
    "        \n",
    "                    biopython_record = SeqIO.read(gbfile, \"genbank\")\n",
    "                    seq_len = len(biopython_record)\n",
    "                    C_table.update(C_record.get(\"id\"),{'size':seq_len})\n",
    "        \n",
    "                except :\n",
    "                    logging.exception(f\"ERROR {dna} Could not calculate sequence size.\")\n",
    "            \n",
    "            time.sleep(1)\n",
    "    except:\n",
    "        logging.exception(\"Main loop failed\")\n",
    "\n",
    "    logging.info(\"Alive\")\n",
    "    time.sleep(10)\n",
    "    "
   ]
  },
  {
   "cell_type": "code",
   "execution_count": null,
   "metadata": {},
   "outputs": [],
   "source": []
  },
  {
   "cell_type": "code",
   "execution_count": null,
   "metadata": {},
   "outputs": [],
   "source": []
  },
  {
   "cell_type": "code",
   "execution_count": null,
   "metadata": {},
   "outputs": [],
   "source": []
  }
 ],
 "metadata": {
  "hide_input": false,
  "kernelspec": {
   "display_name": "Python 3 (ipykernel)",
   "language": "python",
   "name": "python3"
  },
  "language_info": {
   "codemirror_mode": {
    "name": "ipython",
    "version": 3
   },
   "file_extension": ".py",
   "mimetype": "text/x-python",
   "name": "python",
   "nbconvert_exporter": "python",
   "pygments_lexer": "ipython3",
   "version": "3.9.18"
  },
  "toc": {
   "base_numbering": 1,
   "nav_menu": {},
   "number_sections": true,
   "sideBar": false,
   "skip_h1_title": false,
   "title_cell": "Table of Contents",
   "title_sidebar": "",
   "toc_cell": false,
   "toc_position": {
    "height": "208px",
    "left": "1463px",
    "top": "243px",
    "width": "375.797px"
   },
   "toc_section_display": true,
   "toc_window_display": true
  }
 },
 "nbformat": 4,
 "nbformat_minor": 4
}
