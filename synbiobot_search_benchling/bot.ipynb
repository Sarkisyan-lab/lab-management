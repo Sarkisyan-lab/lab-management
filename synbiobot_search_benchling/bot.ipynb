{
 "cells": [
  {
   "cell_type": "code",
   "execution_count": null,
   "id": "c25252cd-f3b1-49e9-af71-cba4417d7cb3",
   "metadata": {},
   "outputs": [],
   "source": [
    "#!/usr/bin/python3"
   ]
  },
  {
   "cell_type": "markdown",
   "id": "ad1612d2",
   "metadata": {},
   "source": [
    "# Logging"
   ]
  },
  {
   "cell_type": "code",
   "execution_count": null,
   "id": "d357349a-46f8-40ad-86a4-b8f83086e880",
   "metadata": {},
   "outputs": [],
   "source": [
    "import logging"
   ]
  },
  {
   "cell_type": "code",
   "execution_count": null,
   "id": "5ff16c20-d349-4167-9475-ee445578307d",
   "metadata": {},
   "outputs": [],
   "source": [
    "console_handler = logging.StreamHandler()  # Console handler\n",
    "file_handler = logging.FileHandler('log.log')  # File handler\n",
    "\n",
    "# Configure the logging module\n",
    "logging.basicConfig(level=logging.INFO,  # Set logging level to INFO\n",
    "                    format='%(asctime)s - %(name)s - %(levelname)s - %(message)s',  # Set log message format\n",
    "                    datefmt='%Y-%m-%d %H:%M:%S',  # Set date format for log messages\n",
    "                    handlers=[console_handler, file_handler])  # Log to both console and file"
   ]
  },
  {
   "cell_type": "markdown",
   "id": "9764b52b-f8d8-43b3-8e15-dd9d4aacf9c8",
   "metadata": {},
   "source": [
    "# Imports"
   ]
  },
  {
   "cell_type": "code",
   "execution_count": null,
   "id": "1b0b0618-e514-44c7-b110-99e374929113",
   "metadata": {},
   "outputs": [],
   "source": [
    "import os\n",
    "import re\n",
    "import validators\n",
    "from natsort import natsorted\n",
    "import random\n",
    "import sys\n",
    "import time"
   ]
  },
  {
   "cell_type": "code",
   "execution_count": null,
   "id": "5e21a5bf-ee7d-4dfe-a653-4bbfac4e37f8",
   "metadata": {},
   "outputs": [],
   "source": [
    "if os.path.exists('../synbiobot_CORE'):\n",
    "    sys.path.append('../synbiobot_CORE')\n",
    "\n",
    "from airtable_config import *\n",
    "from benchlingapi import Session"
   ]
  },
  {
   "cell_type": "code",
   "execution_count": null,
   "id": "4902799c-958f-43f4-bcff-e4b2976d2850",
   "metadata": {},
   "outputs": [],
   "source": []
  },
  {
   "cell_type": "markdown",
   "id": "e5015403",
   "metadata": {},
   "source": [
    "# Functions"
   ]
  },
  {
   "cell_type": "code",
   "execution_count": null,
   "id": "46e32bf1-4c27-4a0b-972c-41fd6c1d0547",
   "metadata": {},
   "outputs": [],
   "source": [
    "def select_records_to_check(input_list, N):\n",
    "    # Ensure N is non-negative\n",
    "    N = max(0, N)\n",
    "\n",
    "    # Get the last N elements of the list\n",
    "    last_elements = input_list[-N:]\n",
    "\n",
    "    # If the list is shorter than N, adjust the number of random elements to pick\n",
    "    num_random_elements = min(N, len(input_list))\n",
    "\n",
    "    # Randomly pick elements from the list\n",
    "    random_elements = random.sample(input_list, num_random_elements)\n",
    "\n",
    "    # Combine the two lists and return\n",
    "    return last_elements + random_elements\n"
   ]
  },
  {
   "cell_type": "markdown",
   "id": "4bb803d8",
   "metadata": {},
   "source": [
    "# Constants"
   ]
  },
  {
   "cell_type": "code",
   "execution_count": null,
   "id": "5abe6acc",
   "metadata": {
    "ExecuteTime": {
     "end_time": "2022-05-27T11:13:03.674382Z",
     "start_time": "2022-05-27T11:13:03.662251Z"
    }
   },
   "outputs": [],
   "source": [
    "benchling_api_key=os.getenv(\"BENCHLING_API_KEY\")\n",
    "session = Session(benchling_api_key)"
   ]
  },
  {
   "cell_type": "code",
   "execution_count": null,
   "id": "af127300-5ff5-4777-8195-a39b612b970f",
   "metadata": {},
   "outputs": [],
   "source": [
    "Benchling_link_field='Benchling link (public)'"
   ]
  },
  {
   "cell_type": "code",
   "execution_count": null,
   "id": "31d1f9d6-5105-40af-af51-43d0a22ccaf1",
   "metadata": {},
   "outputs": [],
   "source": [
    "C_table_id = os.getenv(\"TABLE_C_ID\")"
   ]
  },
  {
   "cell_type": "markdown",
   "id": "99024e18-c92b-4cb5-a9ad-ce3f6b7d208b",
   "metadata": {},
   "source": [
    "# Main loop"
   ]
  },
  {
   "cell_type": "code",
   "execution_count": null,
   "id": "333f4844-a56e-42f1-a584-7ce70797a59d",
   "metadata": {},
   "outputs": [],
   "source": [
    "while True:\n",
    "\n",
    "    time.sleep(10)\n",
    "\n",
    "    # detect benchling constructs named dnaXXXX. (where X is a digit),\n",
    "    # list the URLs as we go\n",
    "    try:\n",
    "        logging.info(\"Scanning benchling...\")\n",
    "        folder = session.Folder.find_by_name(\"Sarkisyan lab DB\") # folder.list() to list stuff inside the folder\n",
    "\n",
    "         # careful! the patterns must not overlap\n",
    "        # otherwise the constucts will be considered duplicated\n",
    "        # and the URLs will not be considered valid\n",
    "        patterns=list()\n",
    "        patterns.append(\"^dna[0-9]{1,5}$\") # dna, number followed by nothing\n",
    "        patterns.append(\"^dna[0-9]{1,5}\\..*\") # dna, number, followed by . then anything\n",
    "        patterns.append(\"^dna[0-9]{1,5} .*\") # dna, number, space followed by anything\n",
    "        search_results=dict()\n",
    "        \n",
    "        # search the whole contents of the main folder\n",
    "        for e in folder.all_entities():\n",
    "        \n",
    "            for pattern in patterns:\n",
    "                result=re.search(pattern, e.name)\n",
    "                if result:\n",
    "                    actual_dna_name = re.search(\"^(dna[0-9]{1,5}).*\",e.name).group()\n",
    "                    search_results.setdefault(actual_dna_name,[])\n",
    "                    search_results[actual_dna_name].append(e.web_url)\n",
    "        logging.info(\"done\")\n",
    "    except:\n",
    "        logging.exception(\"Failed to detect dna constructs on benchling\")\n",
    "        continue\n",
    "\n",
    "    # list records to check on airtable\n",
    "    try:\n",
    "        logging.info(\"Checking airtable...\")\n",
    "        C_table = get_table(C_table_id)\n",
    "        C_table_all = C_table.all()\n",
    "        C_table_all=natsorted(C_table_all,key=lambda x:x.get(\"fields\").get(\"ID\"))\n",
    "        \n",
    "        C_table_all_empty=[rec for rec in C_table_all if not rec.get(\"fields\").get(Benchling_link_field)]\n",
    "        C_table_all_warning=[rec for rec in C_table_all if not validators.url(str(rec.get('fields').get(Benchling_link_field)))]\n",
    "        \n",
    "        records_to_check = select_records_to_check(C_table_all_empty,10) + select_records_to_check(C_table_all_warning,10)\n",
    "        records_to_check = natsorted(records_to_check,key=lambda x:x.get(\"fields\").get(\"ID\"))\n",
    "        logging.info(\"done\")\n",
    "    except:\n",
    "        logging.exception(\"Failed to list records to check on airtable\")\n",
    "        continue\n",
    "\n",
    "    # save construct URL on airtable if the construct has a unique dna name on benchling\n",
    "    try:\n",
    "        logging.info(\"Saving URLs...\")\n",
    "        for C in records_to_check:\n",
    "            \n",
    "            \n",
    "            C_ID=C.get(\"fields\").get(\"ID\")\n",
    "        \n",
    "            the_links=search_results.get(C_ID,[])\n",
    "            \n",
    "            if len(the_links)==1: # save shared link only if there is exactly one construct with the correct name\n",
    "                url=the_links[0]\n",
    "                C_table.update(record_id=C[\"id\"], fields = {Benchling_link_field: url})\n",
    "                logging.info(f\"Found URL for {C_ID}\")\n",
    "                \n",
    "            elif len(the_links)==0:\n",
    "                pass # logging.info(f\"No URL found for {C_ID}\")\n",
    "                \n",
    "            elif len(the_links)>1:\n",
    "                logging.warning(f\"Multiple URLs found for {C_ID}!\")\n",
    "\n",
    "        logging.info(\"done\")\n",
    "    except:\n",
    "        logging.exception(f\"Failed to save {C_ID}'s URL {url}'\")\n",
    "\n",
    "    logging.info(\"Ready.\")\n"
   ]
  },
  {
   "cell_type": "code",
   "execution_count": null,
   "id": "bd8742c6-9525-4d54-bc2e-fe369cf0ab33",
   "metadata": {},
   "outputs": [],
   "source": []
  },
  {
   "cell_type": "code",
   "execution_count": null,
   "id": "9a7e7d23-f961-4ebc-9a3e-0cfaf437c4de",
   "metadata": {},
   "outputs": [],
   "source": []
  },
  {
   "cell_type": "code",
   "execution_count": null,
   "id": "f4a0ea6d-7659-4df4-851d-3432d09d9782",
   "metadata": {},
   "outputs": [],
   "source": []
  },
  {
   "cell_type": "code",
   "execution_count": null,
   "id": "1097cfcd-1c3e-4aa0-91c6-303cb202dce3",
   "metadata": {},
   "outputs": [],
   "source": []
  },
  {
   "cell_type": "code",
   "execution_count": null,
   "id": "352c8a49-71d7-4cc8-b726-2cdf8b88aeec",
   "metadata": {},
   "outputs": [],
   "source": []
  },
  {
   "cell_type": "code",
   "execution_count": null,
   "id": "1949ce24-9aa4-47ef-bf76-dab1ecce0df4",
   "metadata": {},
   "outputs": [],
   "source": []
  },
  {
   "cell_type": "code",
   "execution_count": null,
   "id": "dbb476b2",
   "metadata": {
    "ExecuteTime": {
     "start_time": "2022-05-27T11:13:03.577Z"
    },
    "scrolled": true
   },
   "outputs": [],
   "source": []
  },
  {
   "cell_type": "code",
   "execution_count": null,
   "id": "1c7e952b-03d6-43ed-8b22-294a9e30e748",
   "metadata": {},
   "outputs": [],
   "source": []
  },
  {
   "cell_type": "code",
   "execution_count": null,
   "id": "1e82ea16-2418-4e34-96a7-e3a36fc274e1",
   "metadata": {},
   "outputs": [],
   "source": []
  }
 ],
 "metadata": {
  "kernelspec": {
   "display_name": "Python 3 (ipykernel)",
   "language": "python",
   "name": "python3"
  },
  "language_info": {
   "codemirror_mode": {
    "name": "ipython",
    "version": 3
   },
   "file_extension": ".py",
   "mimetype": "text/x-python",
   "name": "python",
   "nbconvert_exporter": "python",
   "pygments_lexer": "ipython3",
   "version": "3.9.18"
  },
  "toc": {
   "base_numbering": 1,
   "nav_menu": {},
   "number_sections": true,
   "sideBar": true,
   "skip_h1_title": false,
   "title_cell": "Table of Contents",
   "title_sidebar": "",
   "toc_cell": false,
   "toc_position": {
    "height": "772px",
    "left": "88px",
    "top": "113px",
    "width": "165px"
   },
   "toc_section_display": true,
   "toc_window_display": true
  }
 },
 "nbformat": 4,
 "nbformat_minor": 5
}
